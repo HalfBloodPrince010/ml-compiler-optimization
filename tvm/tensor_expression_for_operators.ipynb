{
 "cells": [
  {
   "cell_type": "markdown",
   "id": "f46e6e31-00e3-4233-bf8e-2e5cba2532dd",
   "metadata": {},
   "source": [
    "#### Variable Shape"
   ]
  },
  {
   "cell_type": "code",
   "execution_count": 2,
   "id": "7e45d537-5bbb-4488-bfd2-a5ecf9a73d34",
   "metadata": {},
   "outputs": [
    {
     "data": {
      "text/plain": [
       "(tvm.tir.expr.Var, 'int32')"
      ]
     },
     "execution_count": 2,
     "metadata": {},
     "output_type": "execute_result"
    }
   ],
   "source": [
    "import numpy as np\n",
    "import tvm\n",
    "from tvm import te\n",
    "\n",
    "n = te.var(name='n')\n",
    "type(n), n.dtype"
   ]
  },
  {
   "cell_type": "code",
   "execution_count": 4,
   "id": "9724142a-672a-46f3-bd7d-d13e6cdc2e9f",
   "metadata": {},
   "outputs": [
    {
     "data": {
      "text/plain": [
       "#[version = \"0.0.5\"]\n",
       "@main = primfn(a_1: handle, b_1: handle, c_1: handle) -> ()\n",
       "  attr = {\"from_legacy_te_schedule\": True, \"global_symbol\": \"main\", \"tir.noalias\": True}\n",
       "  buffers = {a: Buffer(a_2: Pointer(float32), float32, [(stride: int32*n: int32)], [], type=\"auto\"),\n",
       "             b: Buffer(b_2: Pointer(float32), float32, [(stride_1: int32*n)], [], type=\"auto\"),\n",
       "             c: Buffer(c_2: Pointer(float32), float32, [(stride_2: int32*n)], [], type=\"auto\")}\n",
       "  buffer_map = {a_1: a, b_1: b, c_1: c}\n",
       "  preflattened_buffer_map = {a_1: a_3: Buffer(a_2, float32, [n], [stride], type=\"auto\"), b_1: b_3: Buffer(b_2, float32, [n], [stride_1], type=\"auto\"), c_1: c_3: Buffer(c_2, float32, [n], [stride_2], type=\"auto\")} {\n",
       "  for (i: int32, 0, n) {\n",
       "    c[(i*stride_2)] = (a[(i*stride)] + b[(i*stride_1)])\n",
       "  }\n",
       "}\n",
       "\n",
       "#[metadata]\n",
       "{\n",
       "  \"root\": 1, \n",
       "  \"nodes\": [\n",
       "    {\n",
       "      \"type_key\": \"\"\n",
       "    }, \n",
       "    {\n",
       "      \"type_key\": \"Map\", \n",
       "      \"keys\": [\n",
       "        \"IntImm\"\n",
       "      ], \n",
       "      \"data\": [2]\n",
       "    }, \n",
       "    {\n",
       "      \"type_key\": \"Array\", \n",
       "      \"data\": [3, 4]\n",
       "    }, \n",
       "    {\n",
       "      \"type_key\": \"IntImm\", \n",
       "      \"attrs\": {\n",
       "        \"dtype\": \"bool\", \n",
       "        \"span\": \"0\", \n",
       "        \"value\": \"1\"\n",
       "      }\n",
       "    }, \n",
       "    {\n",
       "      \"type_key\": \"IntImm\", \n",
       "      \"attrs\": {\n",
       "        \"dtype\": \"bool\", \n",
       "        \"span\": \"0\", \n",
       "        \"value\": \"1\"\n",
       "      }\n",
       "    }\n",
       "  ], \n",
       "  \"b64ndarrays\": [], \n",
       "  \"attrs\": {\"tvm_version\": \"0.10.0\"}\n",
       "}"
      ]
     },
     "execution_count": 4,
     "metadata": {},
     "output_type": "execute_result"
    }
   ],
   "source": [
    "A = te.placeholder((n,), name ='a')\n",
    "B = te.placeholder((n,), name ='b')\n",
    "C = te.compute(A.shape, lambda i: A[i] + B[i], name='c')\n",
    "s = te.create_schedule(C.op)\n",
    "tvm.lower(s, [A, B, C], simple_mode=True)"
   ]
  },
  {
   "cell_type": "markdown",
   "id": "20ba42a1-6870-43cf-8141-eae3fb588b21",
   "metadata": {},
   "source": [
    "### Refer\n",
    "\n",
    "```\n",
    "for (i: int32, 0, n) {\n",
    "    c[(i*stride_2)] = (a[(i*stride)] + b[(i*stride_1)])\n",
    "  }\n",
    "```"
   ]
  },
  {
   "cell_type": "code",
   "execution_count": 5,
   "id": "08a3da32-2e2e-41c5-8c31-8a28ccbab70b",
   "metadata": {},
   "outputs": [],
   "source": [
    "def tvm_vector_add(ndim):\n",
    "    A = te.placeholder([te.var() for _ in range(ndim)])\n",
    "    B = te.placeholder(A.shape)\n",
    "    C = te.compute(A.shape, lambda *i: A[i] + B[i])\n",
    "    s = te.create_schedule(C.op)\n",
    "    return tvm.builds(s, [A, B, C])"
   ]
  },
  {
   "cell_type": "markdown",
   "id": "42ce1c4b-5b20-4ab1-b389-639242c36c5e",
   "metadata": {},
   "source": []
  },
  {
   "cell_type": "code",
   "execution_count": 6,
   "id": "9d6f0631-515a-45f2-ae80-c27a99763536",
   "metadata": {},
   "outputs": [
    {
     "ename": "AttributeError",
     "evalue": "module 'tvm' has no attribute 'builds'",
     "output_type": "error",
     "traceback": [
      "\u001b[0;31m---------------------------------------------------------------------------\u001b[0m",
      "\u001b[0;31mAttributeError\u001b[0m                            Traceback (most recent call last)",
      "Cell \u001b[0;32mIn[6], line 1\u001b[0m\n\u001b[0;32m----> 1\u001b[0m mod \u001b[38;5;241m=\u001b[39m \u001b[43mtvm_vector_add\u001b[49m\u001b[43m(\u001b[49m\u001b[38;5;241;43m2\u001b[39;49m\u001b[43m)\u001b[49m\n",
      "Cell \u001b[0;32mIn[5], line 6\u001b[0m, in \u001b[0;36mtvm_vector_add\u001b[0;34m(ndim)\u001b[0m\n\u001b[1;32m      4\u001b[0m C \u001b[38;5;241m=\u001b[39m te\u001b[38;5;241m.\u001b[39mcompute(A\u001b[38;5;241m.\u001b[39mshape, \u001b[38;5;28;01mlambda\u001b[39;00m \u001b[38;5;241m*\u001b[39mi: A[i] \u001b[38;5;241m+\u001b[39m B[i])\n\u001b[1;32m      5\u001b[0m s \u001b[38;5;241m=\u001b[39m te\u001b[38;5;241m.\u001b[39mcreate_schedule(C\u001b[38;5;241m.\u001b[39mop)\n\u001b[0;32m----> 6\u001b[0m \u001b[38;5;28;01mreturn\u001b[39;00m \u001b[43mtvm\u001b[49m\u001b[38;5;241;43m.\u001b[39;49m\u001b[43mbuilds\u001b[49m(s, [A, B, C])\n",
      "\u001b[0;31mAttributeError\u001b[0m: module 'tvm' has no attribute 'builds'"
     ]
    }
   ],
   "source": [
    "mod = tvm_vector_add(2)"
   ]
  },
  {
   "cell_type": "code",
   "execution_count": null,
   "id": "a0e2d8ad-819d-48a2-bcef-80f2a2bb2445",
   "metadata": {},
   "outputs": [],
   "source": []
  }
 ],
 "metadata": {
  "kernelspec": {
   "display_name": "venv",
   "language": "python",
   "name": "venv"
  },
  "language_info": {
   "codemirror_mode": {
    "name": "ipython",
    "version": 3
   },
   "file_extension": ".py",
   "mimetype": "text/x-python",
   "name": "python",
   "nbconvert_exporter": "python",
   "pygments_lexer": "ipython3",
   "version": "3.9.20"
  }
 },
 "nbformat": 4,
 "nbformat_minor": 5
}
